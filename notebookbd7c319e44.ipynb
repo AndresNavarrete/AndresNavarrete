{
 "cells": [
  {
   "cell_type": "code",
   "execution_count": 1,
   "id": "059300ef",
   "metadata": {
    "execution": {
     "iopub.execute_input": "2022-07-27T17:07:29.268034Z",
     "iopub.status.busy": "2022-07-27T17:07:29.267406Z",
     "iopub.status.idle": "2022-07-27T17:07:29.283636Z",
     "shell.execute_reply": "2022-07-27T17:07:29.282825Z"
    },
    "papermill": {
     "duration": 0.02974,
     "end_time": "2022-07-27T17:07:29.286280",
     "exception": false,
     "start_time": "2022-07-27T17:07:29.256540",
     "status": "completed"
    },
    "tags": []
   },
   "outputs": [],
   "source": [
    "import pandas as pd \n",
    "import numpy as np\n",
    "import json"
   ]
  },
  {
   "cell_type": "markdown",
   "id": "62b9f671",
   "metadata": {
    "papermill": {
     "duration": 0.009219,
     "end_time": "2022-07-27T17:07:29.304303",
     "exception": false,
     "start_time": "2022-07-27T17:07:29.295084",
     "status": "completed"
    },
    "tags": []
   },
   "source": [
    "First, we will load de dataset using pandas"
   ]
  },
  {
   "cell_type": "code",
   "execution_count": 2,
   "id": "20857edf",
   "metadata": {
    "execution": {
     "iopub.execute_input": "2022-07-27T17:07:29.321041Z",
     "iopub.status.busy": "2022-07-27T17:07:29.320288Z",
     "iopub.status.idle": "2022-07-27T17:07:30.559896Z",
     "shell.execute_reply": "2022-07-27T17:07:30.558869Z"
    },
    "papermill": {
     "duration": 1.250138,
     "end_time": "2022-07-27T17:07:30.562537",
     "exception": false,
     "start_time": "2022-07-27T17:07:29.312399",
     "status": "completed"
    },
    "tags": []
   },
   "outputs": [],
   "source": [
    "def getDatabase():\n",
    "    credits = pd.read_csv('../input/tmdb-movie-metadata/tmdb_5000_credits.csv')\n",
    "    movies = pd.read_csv('../input/tmdb-movie-metadata/tmdb_5000_movies.csv')\n",
    "\n",
    "    credits.columns = ['id','tittle','cast','crew']\n",
    "    movies = movies.merge(credits,on='id')\n",
    "    return movies\n",
    "\n",
    "movies = getDatabase()\n"
   ]
  },
  {
   "cell_type": "markdown",
   "id": "ba12fc23",
   "metadata": {
    "papermill": {
     "duration": 0.005937,
     "end_time": "2022-07-27T17:07:30.574850",
     "exception": false,
     "start_time": "2022-07-27T17:07:30.568913",
     "status": "completed"
    },
    "tags": []
   },
   "source": [
    "Clean data. Remove some useless columns and get a clean list of genres, crew members, cast and keywords.\n"
   ]
  },
  {
   "cell_type": "code",
   "execution_count": 3,
   "id": "84fb9a21",
   "metadata": {
    "execution": {
     "iopub.execute_input": "2022-07-27T17:07:30.589959Z",
     "iopub.status.busy": "2022-07-27T17:07:30.588977Z",
     "iopub.status.idle": "2022-07-27T17:07:31.416614Z",
     "shell.execute_reply": "2022-07-27T17:07:31.414971Z"
    },
    "papermill": {
     "duration": 0.83829,
     "end_time": "2022-07-27T17:07:31.419668",
     "exception": false,
     "start_time": "2022-07-27T17:07:30.581378",
     "status": "completed"
    },
    "tags": []
   },
   "outputs": [
    {
     "name": "stderr",
     "output_type": "stream",
     "text": [
      "/opt/conda/lib/python3.7/site-packages/ipykernel_launcher.py:3: SettingWithCopyWarning: \n",
      "A value is trying to be set on a copy of a slice from a DataFrame.\n",
      "Try using .loc[row_indexer,col_indexer] = value instead\n",
      "\n",
      "See the caveats in the documentation: https://pandas.pydata.org/pandas-docs/stable/user_guide/indexing.html#returning-a-view-versus-a-copy\n",
      "  This is separate from the ipykernel package so we can avoid doing imports until\n",
      "/opt/conda/lib/python3.7/site-packages/ipykernel_launcher.py:4: SettingWithCopyWarning: \n",
      "A value is trying to be set on a copy of a slice from a DataFrame.\n",
      "Try using .loc[row_indexer,col_indexer] = value instead\n",
      "\n",
      "See the caveats in the documentation: https://pandas.pydata.org/pandas-docs/stable/user_guide/indexing.html#returning-a-view-versus-a-copy\n",
      "  after removing the cwd from sys.path.\n",
      "/opt/conda/lib/python3.7/site-packages/ipykernel_launcher.py:5: SettingWithCopyWarning: \n",
      "A value is trying to be set on a copy of a slice from a DataFrame.\n",
      "Try using .loc[row_indexer,col_indexer] = value instead\n",
      "\n",
      "See the caveats in the documentation: https://pandas.pydata.org/pandas-docs/stable/user_guide/indexing.html#returning-a-view-versus-a-copy\n",
      "  \"\"\"\n",
      "/opt/conda/lib/python3.7/site-packages/ipykernel_launcher.py:6: SettingWithCopyWarning: \n",
      "A value is trying to be set on a copy of a slice from a DataFrame.\n",
      "Try using .loc[row_indexer,col_indexer] = value instead\n",
      "\n",
      "See the caveats in the documentation: https://pandas.pydata.org/pandas-docs/stable/user_guide/indexing.html#returning-a-view-versus-a-copy\n",
      "  \n"
     ]
    },
    {
     "data": {
      "text/html": [
       "<div>\n",
       "<style scoped>\n",
       "    .dataframe tbody tr th:only-of-type {\n",
       "        vertical-align: middle;\n",
       "    }\n",
       "\n",
       "    .dataframe tbody tr th {\n",
       "        vertical-align: top;\n",
       "    }\n",
       "\n",
       "    .dataframe thead th {\n",
       "        text-align: right;\n",
       "    }\n",
       "</style>\n",
       "<table border=\"1\" class=\"dataframe\">\n",
       "  <thead>\n",
       "    <tr style=\"text-align: right;\">\n",
       "      <th></th>\n",
       "      <th>id</th>\n",
       "      <th>title</th>\n",
       "      <th>original_language</th>\n",
       "      <th>budget</th>\n",
       "      <th>popularity</th>\n",
       "      <th>runtime</th>\n",
       "      <th>release_date</th>\n",
       "      <th>genres</th>\n",
       "      <th>keywords</th>\n",
       "      <th>cast</th>\n",
       "      <th>crew</th>\n",
       "      <th>vote_count</th>\n",
       "      <th>vote_average</th>\n",
       "    </tr>\n",
       "  </thead>\n",
       "  <tbody>\n",
       "    <tr>\n",
       "      <th>0</th>\n",
       "      <td>19995</td>\n",
       "      <td>Avatar</td>\n",
       "      <td>en</td>\n",
       "      <td>237000000</td>\n",
       "      <td>150.437577</td>\n",
       "      <td>162.0</td>\n",
       "      <td>2009-12-10</td>\n",
       "      <td>[action, adventure, fantasy, sciencefiction]</td>\n",
       "      <td>[cultureclash, future, spacewar, spacecolony, ...</td>\n",
       "      <td>[samworthington, zoesaldana, sigourneyweaver, ...</td>\n",
       "      <td>[stephene.rivkin, rickcarter, christopherboyes...</td>\n",
       "      <td>11800</td>\n",
       "      <td>7.2</td>\n",
       "    </tr>\n",
       "    <tr>\n",
       "      <th>1</th>\n",
       "      <td>285</td>\n",
       "      <td>Pirates of the Caribbean: At World's End</td>\n",
       "      <td>en</td>\n",
       "      <td>300000000</td>\n",
       "      <td>139.082615</td>\n",
       "      <td>169.0</td>\n",
       "      <td>2007-05-19</td>\n",
       "      <td>[adventure, fantasy, action]</td>\n",
       "      <td>[ocean, drugabuse, exoticisland, eastindiatrad...</td>\n",
       "      <td>[johnnydepp, orlandobloom, keiraknightley, ste...</td>\n",
       "      <td>[dariuszwolski, goreverbinski, jerrybruckheime...</td>\n",
       "      <td>4500</td>\n",
       "      <td>6.9</td>\n",
       "    </tr>\n",
       "    <tr>\n",
       "      <th>2</th>\n",
       "      <td>206647</td>\n",
       "      <td>Spectre</td>\n",
       "      <td>en</td>\n",
       "      <td>245000000</td>\n",
       "      <td>107.376788</td>\n",
       "      <td>148.0</td>\n",
       "      <td>2015-10-26</td>\n",
       "      <td>[action, adventure, crime]</td>\n",
       "      <td>[spy, basedonnovel, secretagent, sequel, mi6, ...</td>\n",
       "      <td>[danielcraig, christophwaltz, léaseydoux, ralp...</td>\n",
       "      <td>[thomasnewman, sammendes, annapinnock, johnlog...</td>\n",
       "      <td>4466</td>\n",
       "      <td>6.3</td>\n",
       "    </tr>\n",
       "  </tbody>\n",
       "</table>\n",
       "</div>"
      ],
      "text/plain": [
       "       id                                     title original_language  \\\n",
       "0   19995                                    Avatar                en   \n",
       "1     285  Pirates of the Caribbean: At World's End                en   \n",
       "2  206647                                   Spectre                en   \n",
       "\n",
       "      budget  popularity  runtime release_date  \\\n",
       "0  237000000  150.437577    162.0   2009-12-10   \n",
       "1  300000000  139.082615    169.0   2007-05-19   \n",
       "2  245000000  107.376788    148.0   2015-10-26   \n",
       "\n",
       "                                         genres  \\\n",
       "0  [action, adventure, fantasy, sciencefiction]   \n",
       "1                  [adventure, fantasy, action]   \n",
       "2                    [action, adventure, crime]   \n",
       "\n",
       "                                            keywords  \\\n",
       "0  [cultureclash, future, spacewar, spacecolony, ...   \n",
       "1  [ocean, drugabuse, exoticisland, eastindiatrad...   \n",
       "2  [spy, basedonnovel, secretagent, sequel, mi6, ...   \n",
       "\n",
       "                                                cast  \\\n",
       "0  [samworthington, zoesaldana, sigourneyweaver, ...   \n",
       "1  [johnnydepp, orlandobloom, keiraknightley, ste...   \n",
       "2  [danielcraig, christophwaltz, léaseydoux, ralp...   \n",
       "\n",
       "                                                crew  vote_count  vote_average  \n",
       "0  [stephene.rivkin, rickcarter, christopherboyes...       11800           7.2  \n",
       "1  [dariuszwolski, goreverbinski, jerrybruckheime...        4500           6.9  \n",
       "2  [thomasnewman, sammendes, annapinnock, johnlog...        4466           6.3  "
      ]
     },
     "execution_count": 3,
     "metadata": {},
     "output_type": "execute_result"
    }
   ],
   "source": [
    "def cleanDatabase(movies):\n",
    "    movies_clean = movies[movies[\"vote_count\"] > 300]\n",
    "    movies_clean[\"genres\"] = movies_clean.apply(lambda row: getValues(row[\"genres\"]), axis = 1)\n",
    "    movies_clean[\"keywords\"] = movies_clean.apply(lambda row: getValues(row[\"keywords\"]), axis = 1)\n",
    "    movies_clean[\"cast\"] = movies_clean.apply(lambda row: getValues(row[\"cast\"]), axis = 1)\n",
    "    movies_clean[\"crew\"] = movies_clean.apply(lambda row: getValues(row[\"crew\"]), axis = 1)\n",
    "\n",
    "    useful_headers = ['id',\n",
    "    'title',\n",
    "    'original_language',\n",
    "    'budget',\n",
    "    'popularity',\n",
    "    'runtime',\n",
    "    'release_date',\n",
    "    'genres',\n",
    "    'keywords',\n",
    "    'cast',\n",
    "    'crew',\n",
    "    'vote_count',\n",
    "    'vote_average']\n",
    "    return movies_clean[useful_headers]\n",
    "\n",
    "\n",
    "def getValues(listOfDict):\n",
    "    listOfDict = json.loads(listOfDict)\n",
    "    output = list()\n",
    "    for dictionary in listOfDict:\n",
    "        name = dictionary[\"name\"]\n",
    "        nameShort = name.lower()\n",
    "        nameShort = nameShort.replace(\" \",\"\")\n",
    "        if nameShort in output:\n",
    "            continue\n",
    "        output.append(nameShort)\n",
    "    return output\n",
    "\n",
    "df = cleanDatabase(movies)\n",
    "df.head(3)"
   ]
  },
  {
   "cell_type": "markdown",
   "id": "335a7312",
   "metadata": {
    "papermill": {
     "duration": 0.006874,
     "end_time": "2022-07-27T17:07:31.433835",
     "exception": false,
     "start_time": "2022-07-27T17:07:31.426961",
     "status": "completed"
    },
    "tags": []
   },
   "source": [
    "Get unique genres, cast, crew and keywords. We have a dictionary with the number of times that a specific genre/cast/etc has been used in a movie. \n"
   ]
  },
  {
   "cell_type": "code",
   "execution_count": 4,
   "id": "7b821fac",
   "metadata": {
    "execution": {
     "iopub.execute_input": "2022-07-27T17:07:31.450087Z",
     "iopub.status.busy": "2022-07-27T17:07:31.449624Z",
     "iopub.status.idle": "2022-07-27T17:07:31.536558Z",
     "shell.execute_reply": "2022-07-27T17:07:31.535320Z"
    },
    "papermill": {
     "duration": 0.098865,
     "end_time": "2022-07-27T17:07:31.539967",
     "exception": false,
     "start_time": "2022-07-27T17:07:31.441102",
     "status": "completed"
    },
    "tags": []
   },
   "outputs": [
    {
     "name": "stdout",
     "output_type": "stream",
     "text": [
      "Genres: 19\n",
      "keywords: 7350\n",
      "crews: 38208\n",
      "casts: 36837\n"
     ]
    }
   ],
   "source": [
    "def getAllElementsFrom(columnName):\n",
    "    output = dict()\n",
    "    for listOfElements in df[columnName]:\n",
    "        for element in listOfElements:\n",
    "            if element in output.keys():\n",
    "                output[element] += 1\n",
    "            else:\n",
    "                output[element] = 1\n",
    "    return output\n",
    "\n",
    "genres = getAllElementsFrom(\"genres\")\n",
    "keys = getAllElementsFrom(\"keywords\")\n",
    "crews = getAllElementsFrom(\"crew\")\n",
    "casts = getAllElementsFrom(\"cast\")\n",
    "\n",
    "print(\"Genres: {}\".format(len(genres)))\n",
    "print(\"keywords: {}\".format(len(keys)))\n",
    "print(\"crews: {}\".format(len(crews)))\n",
    "print(\"casts: {}\".format(len(casts)))"
   ]
  },
  {
   "cell_type": "markdown",
   "id": "6454ec65",
   "metadata": {
    "papermill": {
     "duration": 0.00673,
     "end_time": "2022-07-27T17:07:31.554515",
     "exception": false,
     "start_time": "2022-07-27T17:07:31.547785",
     "status": "completed"
    },
    "tags": []
   },
   "source": [
    "That's a lot of people. I don't wanna train a model with that amount of columns. Let's filter the relevant information with a bare minimun apparences on the dataset. \n"
   ]
  },
  {
   "cell_type": "code",
   "execution_count": 5,
   "id": "84f453ca",
   "metadata": {
    "execution": {
     "iopub.execute_input": "2022-07-27T17:07:31.569968Z",
     "iopub.status.busy": "2022-07-27T17:07:31.569578Z",
     "iopub.status.idle": "2022-07-27T17:07:31.587461Z",
     "shell.execute_reply": "2022-07-27T17:07:31.586196Z"
    },
    "papermill": {
     "duration": 0.029861,
     "end_time": "2022-07-27T17:07:31.591280",
     "exception": false,
     "start_time": "2022-07-27T17:07:31.561419",
     "status": "completed"
    },
    "tags": []
   },
   "outputs": [
    {
     "name": "stdout",
     "output_type": "stream",
     "text": [
      "Genres: 17\n",
      "keywords: 132\n",
      "crews: 138\n",
      "casts: 87\n"
     ]
    }
   ],
   "source": [
    "def getShortList(dictionaryCount):\n",
    "    shortList = list()\n",
    "    min_apparences = 20\n",
    "    for key, count in dictionaryCount.items():\n",
    "        if count < min_apparences:\n",
    "            continue\n",
    "        shortList.append(key)\n",
    "    return shortList\n",
    "\n",
    "short_genres = getShortList(genres)\n",
    "short_keys = getShortList(keys)\n",
    "short_crews = getShortList(crews)\n",
    "short_casts = getShortList(casts)\n",
    "\n",
    "print(\"Genres: {}\".format(len(short_genres)))\n",
    "print(\"keywords: {}\".format(len(short_keys)))\n",
    "print(\"crews: {}\".format(len(short_crews)))\n",
    "print(\"casts: {}\".format(len(short_casts)))\n",
    "\n"
   ]
  },
  {
   "cell_type": "markdown",
   "id": "f27d1edb",
   "metadata": {
    "papermill": {
     "duration": 0.006856,
     "end_time": "2022-07-27T17:07:31.605880",
     "exception": false,
     "start_time": "2022-07-27T17:07:31.599024",
     "status": "completed"
    },
    "tags": []
   },
   "source": [
    "That's better. Now, let's add each relevant genre/cast/crew/keyword to the dataset as a binary column.\n"
   ]
  },
  {
   "cell_type": "code",
   "execution_count": 6,
   "id": "26768732",
   "metadata": {
    "execution": {
     "iopub.execute_input": "2022-07-27T17:07:31.622381Z",
     "iopub.status.busy": "2022-07-27T17:07:31.621993Z",
     "iopub.status.idle": "2022-07-27T17:07:48.749972Z",
     "shell.execute_reply": "2022-07-27T17:07:48.748895Z"
    },
    "papermill": {
     "duration": 17.139542,
     "end_time": "2022-07-27T17:07:48.752565",
     "exception": false,
     "start_time": "2022-07-27T17:07:31.613023",
     "status": "completed"
    },
    "tags": []
   },
   "outputs": [],
   "source": [
    "def addBinaryColumnsToDataframe(listOfKeywords, columnName):\n",
    "    for keyword in listOfKeywords:\n",
    "        newColName = \"has_{}\".format(keyword)\n",
    "        df[newColName] = df.apply(lambda row: True if keyword in row[columnName] else False, axis = 1)\n",
    "\n",
    "addBinaryColumnsToDataframe(short_genres, \"genres\")\n",
    "addBinaryColumnsToDataframe(short_keys, \"keywords\")\n",
    "addBinaryColumnsToDataframe(short_crews, \"crew\")\n",
    "addBinaryColumnsToDataframe(short_casts, \"cast\")\n"
   ]
  },
  {
   "cell_type": "markdown",
   "id": "94bf73a9",
   "metadata": {
    "papermill": {
     "duration": 0.006465,
     "end_time": "2022-07-27T17:07:48.765913",
     "exception": false,
     "start_time": "2022-07-27T17:07:48.759448",
     "status": "completed"
    },
    "tags": []
   },
   "source": [
    "Preparing the dataset for being used. First let's get rid of some useless columns and select the vote_average columns as the target.\n"
   ]
  },
  {
   "cell_type": "code",
   "execution_count": 7,
   "id": "0c722035",
   "metadata": {
    "execution": {
     "iopub.execute_input": "2022-07-27T17:07:48.782135Z",
     "iopub.status.busy": "2022-07-27T17:07:48.781733Z",
     "iopub.status.idle": "2022-07-27T17:07:49.953991Z",
     "shell.execute_reply": "2022-07-27T17:07:49.952843Z"
    },
    "papermill": {
     "duration": 1.184572,
     "end_time": "2022-07-27T17:07:49.957043",
     "exception": false,
     "start_time": "2022-07-27T17:07:48.772471",
     "status": "completed"
    },
    "tags": []
   },
   "outputs": [],
   "source": [
    "from sklearn.model_selection import train_test_split\n",
    "import copy \n",
    "\n",
    "df_test = copy.deepcopy(df)\n",
    "target_name = \"vote_average\"\n",
    "not_usefull_Columns = [\n",
    "    'id',\n",
    "    'release_date',\n",
    "    'genres',\n",
    "    'keywords',\n",
    "    'cast',\n",
    "    'crew']\n",
    "\n",
    "for columnName in not_usefull_Columns:\n",
    "    df_test.pop(columnName)\n",
    "\n",
    "data = df_test.drop(columns=[target_name])\n",
    "target = df_test[target_name]\n",
    "\n",
    "data_train, data_test, target_train, target_test = train_test_split(\n",
    "    data, target, random_state=42)\n",
    "\n"
   ]
  },
  {
   "cell_type": "markdown",
   "id": "73ff173e",
   "metadata": {
    "papermill": {
     "duration": 0.006779,
     "end_time": "2022-07-27T17:07:49.970850",
     "exception": false,
     "start_time": "2022-07-27T17:07:49.964071",
     "status": "completed"
    },
    "tags": []
   },
   "source": [
    "Feature Scaling with encoders. We have two different encoders: one for categorical variables and other for numerical. Then, we will combine those in a pipeline with a preprocessor. \n"
   ]
  },
  {
   "cell_type": "code",
   "execution_count": 8,
   "id": "35813e92",
   "metadata": {
    "execution": {
     "iopub.execute_input": "2022-07-27T17:07:49.987061Z",
     "iopub.status.busy": "2022-07-27T17:07:49.986086Z",
     "iopub.status.idle": "2022-07-27T17:07:50.009526Z",
     "shell.execute_reply": "2022-07-27T17:07:50.008468Z"
    },
    "papermill": {
     "duration": 0.034323,
     "end_time": "2022-07-27T17:07:50.012261",
     "exception": false,
     "start_time": "2022-07-27T17:07:49.977938",
     "status": "completed"
    },
    "tags": []
   },
   "outputs": [],
   "source": [
    "from sklearn.compose import make_column_selector as selector\n",
    "from sklearn.preprocessing import OneHotEncoder, StandardScaler\n",
    "from sklearn.compose import ColumnTransformer\n",
    "from sklearn.pipeline import make_pipeline\n",
    "\n",
    "\n",
    "float_columns_selector = selector(dtype_include=\"float\")\n",
    "int_columns_selector = selector(dtype_include=\"int\")\n",
    "str_columns_selector = selector(dtype_include=\"object\")\n",
    "bool_columns_selector = selector(dtype_include=\"bool\")\n",
    "\n",
    "numerical_columns = float_columns_selector(data) + int_columns_selector(data)\n",
    "categorical_columns = str_columns_selector(data) + bool_columns_selector(data)\n",
    "\n",
    "categorical_preprocessor = OneHotEncoder(handle_unknown=\"ignore\")\n",
    "numerical_preprocessor = StandardScaler()\n",
    "\n",
    "\n",
    "preprocessor = ColumnTransformer([\n",
    "    ('one-hot-encoder', categorical_preprocessor, categorical_columns),\n",
    "    ('standard_scaler', numerical_preprocessor, numerical_columns)])\n"
   ]
  },
  {
   "cell_type": "code",
   "execution_count": 9,
   "id": "10391944",
   "metadata": {
    "execution": {
     "iopub.execute_input": "2022-07-27T17:07:50.028207Z",
     "iopub.status.busy": "2022-07-27T17:07:50.027781Z",
     "iopub.status.idle": "2022-07-27T17:07:50.034073Z",
     "shell.execute_reply": "2022-07-27T17:07:50.033234Z"
    },
    "papermill": {
     "duration": 0.016672,
     "end_time": "2022-07-27T17:07:50.036105",
     "exception": false,
     "start_time": "2022-07-27T17:07:50.019433",
     "status": "completed"
    },
    "tags": []
   },
   "outputs": [],
   "source": [
    "def getFittingSummary(regressor):\n",
    "    predictions = regressor.predict(data_test)\n",
    "    errorsSquared = (predictions - target_test) ** 2\n",
    "    \n",
    "    print('Mean Squared Error:', round(np.mean(errorsSquared), 2), 'degrees.')\n",
    "\n",
    "    score = regressor.score(data_test, target_test)\n",
    "    print('R2:', round(score, 3))"
   ]
  },
  {
   "cell_type": "code",
   "execution_count": 10,
   "id": "a4c39008",
   "metadata": {
    "execution": {
     "iopub.execute_input": "2022-07-27T17:07:50.052046Z",
     "iopub.status.busy": "2022-07-27T17:07:50.051636Z",
     "iopub.status.idle": "2022-07-27T17:07:51.102769Z",
     "shell.execute_reply": "2022-07-27T17:07:51.101280Z"
    },
    "papermill": {
     "duration": 1.061933,
     "end_time": "2022-07-27T17:07:51.105048",
     "exception": false,
     "start_time": "2022-07-27T17:07:50.043115",
     "status": "completed"
    },
    "tags": []
   },
   "outputs": [
    {
     "name": "stdout",
     "output_type": "stream",
     "text": [
      "Decision Tree Regression\n",
      "Mean Squared Error: 0.57 degrees.\n",
      "R2: 0.034\n"
     ]
    }
   ],
   "source": [
    "# Fitting DecisionTreeRegressor to the dataset\n",
    "from sklearn.tree import DecisionTreeRegressor\n",
    "\n",
    "print(\"Decision Tree Regression\")\n",
    "regressor = DecisionTreeRegressor(random_state = 0)\n",
    "model = make_pipeline(preprocessor, regressor)\n",
    "model.fit(data_train, target_train)\n",
    "getFittingSummary(model)"
   ]
  },
  {
   "cell_type": "code",
   "execution_count": 11,
   "id": "33801241",
   "metadata": {
    "execution": {
     "iopub.execute_input": "2022-07-27T17:07:51.121985Z",
     "iopub.status.busy": "2022-07-27T17:07:51.120754Z",
     "iopub.status.idle": "2022-07-27T17:08:25.372993Z",
     "shell.execute_reply": "2022-07-27T17:08:25.371845Z"
    },
    "papermill": {
     "duration": 34.270047,
     "end_time": "2022-07-27T17:08:25.382268",
     "exception": false,
     "start_time": "2022-07-27T17:07:51.112221",
     "status": "completed"
    },
    "tags": []
   },
   "outputs": [
    {
     "name": "stdout",
     "output_type": "stream",
     "text": [
      "Random Forest Regression\n",
      "Mean Squared Error: 0.27 degrees.\n",
      "R2: 0.536\n"
     ]
    }
   ],
   "source": [
    "# Fitting Random Forest Regression to the dataset\n",
    "from sklearn.ensemble import RandomForestRegressor\n",
    "\n",
    "print(\"Random Forest Regression\")\n",
    "regressor = RandomForestRegressor(n_estimators = 100, random_state = 0)\n",
    "model = make_pipeline(preprocessor, regressor)\n",
    "model.fit(data_train, target_train)\n",
    "getFittingSummary(model)"
   ]
  },
  {
   "cell_type": "code",
   "execution_count": 12,
   "id": "8b101871",
   "metadata": {
    "execution": {
     "iopub.execute_input": "2022-07-27T17:08:25.399761Z",
     "iopub.status.busy": "2022-07-27T17:08:25.399344Z",
     "iopub.status.idle": "2022-07-27T17:08:38.252913Z",
     "shell.execute_reply": "2022-07-27T17:08:38.246279Z"
    },
    "papermill": {
     "duration": 12.867994,
     "end_time": "2022-07-27T17:08:38.258272",
     "exception": false,
     "start_time": "2022-07-27T17:08:25.390278",
     "status": "completed"
    },
    "tags": []
   },
   "outputs": [
    {
     "name": "stdout",
     "output_type": "stream",
     "text": [
      "Multi-layer Perceptron Regression\n",
      "Mean Squared Error: 0.31 degrees.\n",
      "R2: 0.475\n"
     ]
    }
   ],
   "source": [
    "# Fitting Multi-layer Perceptron regressor to the dataset\n",
    "from sklearn.neural_network import MLPRegressor\n",
    "print(\"Multi-layer Perceptron Regression\")\n",
    "\n",
    "regressor = MLPRegressor(hidden_layer_sizes=(20,20,20), activation='relu', solver='adam', max_iter=500)\n",
    "model = make_pipeline(preprocessor, regressor)\n",
    "model.fit(data_train, target_train)\n",
    "getFittingSummary(model)\n"
   ]
  },
  {
   "cell_type": "code",
   "execution_count": 13,
   "id": "600bd956",
   "metadata": {
    "execution": {
     "iopub.execute_input": "2022-07-27T17:08:38.290598Z",
     "iopub.status.busy": "2022-07-27T17:08:38.289754Z",
     "iopub.status.idle": "2022-07-27T17:08:41.201636Z",
     "shell.execute_reply": "2022-07-27T17:08:41.200397Z"
    },
    "papermill": {
     "duration": 2.930876,
     "end_time": "2022-07-27T17:08:41.204256",
     "exception": false,
     "start_time": "2022-07-27T17:08:38.273380",
     "status": "completed"
    },
    "tags": []
   },
   "outputs": [
    {
     "name": "stdout",
     "output_type": "stream",
     "text": [
      "Support Vector Regression\n",
      "Mean Squared Error: 0.26 degrees.\n",
      "R2: 0.566\n"
     ]
    }
   ],
   "source": [
    "# Fitting SVR to the dataset\n",
    "from sklearn.svm import SVR\n",
    "\n",
    "print(\"Support Vector Regression\")\n",
    "regressor = SVR(kernel = 'rbf')\n",
    "model = make_pipeline(preprocessor, regressor)\n",
    "model.fit(data_train, target_train)\n",
    "getFittingSummary(model)"
   ]
  },
  {
   "cell_type": "markdown",
   "id": "5752eafb",
   "metadata": {
    "papermill": {
     "duration": 0.007414,
     "end_time": "2022-07-27T17:08:41.219275",
     "exception": false,
     "start_time": "2022-07-27T17:08:41.211861",
     "status": "completed"
    },
    "tags": []
   },
   "source": [
    "In summary, we have made some regression models to predict the socre of a movie given de IMDB information, such as crew memenber, cast, genres, budget, among others. \n",
    "\n",
    "The best model among all tested models is the SVR.\n",
    "\n",
    "\n"
   ]
  },
  {
   "cell_type": "markdown",
   "id": "dbb1b9ea",
   "metadata": {
    "papermill": {
     "duration": 0.00756,
     "end_time": "2022-07-27T17:08:41.234512",
     "exception": false,
     "start_time": "2022-07-27T17:08:41.226952",
     "status": "completed"
    },
    "tags": []
   },
   "source": [
    "Bonus track: Let's see the predictions over a real set of movies rating on IMDB. Some movies are slighly inacurate, but quite close to the real rating. We predicted that \"Superman Returns\" would be a disaster and that \"The Avengers\" would be a moderate succes. \n",
    "\n",
    "I find these result quite good becouse movies that I love, like \"The Dark Knight Rises\", are predictid with less than 3% of error on its rating."
   ]
  },
  {
   "cell_type": "code",
   "execution_count": 14,
   "id": "f5f6f698",
   "metadata": {
    "execution": {
     "iopub.execute_input": "2022-07-27T17:08:41.252366Z",
     "iopub.status.busy": "2022-07-27T17:08:41.251637Z",
     "iopub.status.idle": "2022-07-27T17:08:41.357500Z",
     "shell.execute_reply": "2022-07-27T17:08:41.355853Z"
    },
    "papermill": {
     "duration": 0.119566,
     "end_time": "2022-07-27T17:08:41.361904",
     "exception": false,
     "start_time": "2022-07-27T17:08:41.242338",
     "status": "completed"
    },
    "tags": []
   },
   "outputs": [
    {
     "name": "stdout",
     "output_type": "stream",
     "text": [
      "Prediction 7.7   Real   7.2    Error 7% \t| Avatar\n",
      "Prediction 6.7   Real   6.9    Error 3% \t| Pirates of the Caribbean: At World's End\n",
      "Prediction 6.4   Real   6.3    Error 2% \t| Spectre\n",
      "Prediction 7.4   Real   7.6    Error 3% \t| The Dark Knight Rises\n",
      "Prediction 6.0   Real   6.1    Error 2% \t| John Carter\n",
      "Prediction 6.0   Real   5.9    Error 2% \t| Spider-Man 3\n",
      "Prediction 6.4   Real   7.4    Error 14% \t| Tangled\n",
      "Prediction 6.6   Real   7.3    Error 10% \t| Avengers: Age of Ultron\n",
      "Prediction 6.9   Real   7.4    Error 7% \t| Harry Potter and the Half-Blood Prince\n",
      "Prediction 6.8   Real   5.7    Error 20% \t| Batman v Superman: Dawn of Justice\n",
      "Prediction 5.5   Real   5.4    Error 1% \t| Superman Returns\n",
      "Prediction 6.1   Real   6.1    Error 0% \t| Quantum of Solace\n",
      "Prediction 7.1   Real   7.0    Error 1% \t| Pirates of the Caribbean: Dead Man's Chest\n",
      "Prediction 6.1   Real   5.9    Error 3% \t| The Lone Ranger\n",
      "Prediction 6.7   Real   6.5    Error 3% \t| Man of Steel\n",
      "Prediction 6.2   Real   6.3    Error 2% \t| The Chronicles of Narnia: Prince Caspian\n",
      "Prediction 7.5   Real   7.4    Error 1% \t| The Avengers\n",
      "Prediction 6.2   Real   6.4    Error 3% \t| Pirates of the Caribbean: On Stranger Tides\n",
      "Prediction 6.1   Real   6.2    Error 1% \t| Men in Black 3\n",
      "Prediction 6.8   Real   7.1    Error 4% \t| The Hobbit: The Battle of the Five Armies\n",
      "Prediction 6.7   Real   6.5    Error 4% \t| The Amazing Spider-Man\n",
      "Prediction 6.0   Real   6.2    Error 4% \t| Robin Hood\n",
      "Prediction 6.9   Real   7.6    Error 9% \t| The Hobbit: The Desolation of Smaug\n",
      "Prediction 5.7   Real   5.8    Error 2% \t| The Golden Compass\n",
      "Prediction 6.8   Real   6.6    Error 3% \t| King Kong\n"
     ]
    }
   ],
   "source": [
    "dataToShow = df_test[:25]\n",
    "predictions = model.predict(dataToShow)\n",
    "real = list(dataToShow[target_name])\n",
    "titles = list(dataToShow['title'])\n",
    "\n",
    "for index, name in enumerate(titles):\n",
    "    observed = real[index]\n",
    "    predicted = predictions[index]\n",
    "    error = 100 * abs(observed - predicted) / observed\n",
    "    print(\"Prediction {}   Real   {}    Error {}% \\t| {}\".format(\n",
    "        round(predicted, 1), \n",
    "        observed,\n",
    "        round(error), \n",
    "        name))\n"
   ]
  }
 ],
 "metadata": {
  "kernelspec": {
   "display_name": "Python 3",
   "language": "python",
   "name": "python3"
  },
  "language_info": {
   "codemirror_mode": {
    "name": "ipython",
    "version": 3
   },
   "file_extension": ".py",
   "mimetype": "text/x-python",
   "name": "python",
   "nbconvert_exporter": "python",
   "pygments_lexer": "ipython3",
   "version": "3.7.12"
  },
  "papermill": {
   "default_parameters": {},
   "duration": 82.960532,
   "end_time": "2022-07-27T17:08:42.193099",
   "environment_variables": {},
   "exception": null,
   "input_path": "__notebook__.ipynb",
   "output_path": "__notebook__.ipynb",
   "parameters": {},
   "start_time": "2022-07-27T17:07:19.232567",
   "version": "2.3.4"
  }
 },
 "nbformat": 4,
 "nbformat_minor": 5
}
